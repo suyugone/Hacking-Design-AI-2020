{
 "cells": [
  {
   "cell_type": "markdown",
   "metadata": {},
   "source": [
    "# 论文架构练习"
   ]
  },
  {
   "cell_type": "code",
   "execution_count": 3,
   "metadata": {},
   "outputs": [
    {
     "name": "stdout",
     "output_type": "stream",
     "text": [
      "\n",
      "STEP 1\n",
      "更新采样规则: \n",
      "对输入图像进行采样\n",
      "\n",
      "STEP 2\n",
      "更新布局规则: \n",
      "选择合适的布局方案\n",
      "\n",
      "STEP 3\n",
      "更新修剪规则: \n",
      "对图片进行修剪\n",
      "\n",
      "STEP 4\n",
      "更新风格化规则: \n",
      "对图片进行风格化处理\n"
     ]
    }
   ],
   "source": [
    "# 泛化出“观察者”类\n",
    "class Observer:\n",
    "    def update(self):\n",
    "        pass\n",
    "    \n",
    "class FrameSelection(Observer):\n",
    "    def update(self, action):\n",
    "        print (\"更新采样规则: %s\" % action)\n",
    "        self.run()\n",
    "    \n",
    "    def run(self):\n",
    "        print(\"对输入图像进行采样\")\n",
    "\n",
    "        \n",
    "class Layout(Observer):\n",
    "    def update(self, action):\n",
    "        print (\"更新布局规则: %s\" % action)\n",
    "        self.run()\n",
    "    \n",
    "    def run(self):\n",
    "        print(\"选择合适的布局方案\")\n",
    "\n",
    "        \n",
    "class Framing(Observer):\n",
    "    def update(self, action):\n",
    "        print (\"更新修剪规则: %s\" % action)\n",
    "        self.run()\n",
    "    \n",
    "    def run(self):\n",
    "        print(\"对图片进行修剪\")\n",
    "\n",
    "class Stylization(Observer):\n",
    "    def update(self, action):\n",
    "        print (\"更新风格化规则: %s\" % action)\n",
    "        self.run()\n",
    "    \n",
    "    def run(self):\n",
    "        print(\"对图片进行风格化处理\")\n",
    "\n",
    "        \n",
    "# Subject 对象拥有添加、删除和通知一系列 Observer 的方法等等\n",
    "class Subject:\n",
    "    observers=[]\n",
    "    action=\"\"\n",
    "    def add_observer(self,observer):\n",
    "        self.observers.append(observer)\n",
    "    def notify_all(self):\n",
    "        for i,obs in enumerate(self.observers):\n",
    "            print(\"\\nSTEP\",i+1)\n",
    "            obs.update(self.action)\n",
    "            \n",
    "\n",
    "class GraphicNarrative(Subject):\n",
    "    def set_action(self,action=\"默认\"):\n",
    "        self.action=action\n",
    "    def start_design(self):\n",
    "        return True\n",
    "    \n",
    "#采样\n",
    "frame_selection=FrameSelection()\n",
    "#布局\n",
    "layout=Layout()\n",
    "#图像修剪\n",
    "framing=Framing()\n",
    "#图像风格化\n",
    "stylization=Stylization()\n",
    " \n",
    "\n",
    "graphic_narrative=GraphicNarrative()\n",
    "graphic_narrative.add_observer(frame_selection)\n",
    "graphic_narrative.add_observer(layout)\n",
    "graphic_narrative.add_observer(framing)\n",
    "graphic_narrative.add_observer(stylization)\n",
    "\n",
    "graphic_narrative.notify_all()"
   ]
  },
  {
   "cell_type": "code",
   "execution_count": null,
   "metadata": {},
   "outputs": [],
   "source": []
  }
 ],
 "metadata": {
  "kernelspec": {
   "display_name": "Python 3",
   "language": "python",
   "name": "python3"
  },
  "language_info": {
   "codemirror_mode": {
    "name": "ipython",
    "version": 3
   },
   "file_extension": ".py",
   "mimetype": "text/x-python",
   "name": "python",
   "nbconvert_exporter": "python",
   "pygments_lexer": "ipython3",
   "version": "3.7.1"
  }
 },
 "nbformat": 4,
 "nbformat_minor": 4
}
